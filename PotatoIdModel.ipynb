{
 "cells": [
  {
   "cell_type": "code",
   "execution_count": 1,
   "id": "6ea7e18f",
   "metadata": {},
   "outputs": [
    {
     "name": "stdout",
     "output_type": "stream",
     "text": [
      "hello world\n"
     ]
    }
   ],
   "source": [
    "print(\"hello world\")"
   ]
  },
  {
   "cell_type": "code",
   "execution_count": 4,
   "id": "30ec8acd",
   "metadata": {},
   "outputs": [
    {
     "name": "stdout",
     "output_type": "stream",
     "text": [
      "hello 2\n"
     ]
    }
   ],
   "source": [
    "print(\"hello 2\")"
   ]
  },
  {
   "cell_type": "code",
   "execution_count": 5,
   "id": "86fb4f5d",
   "metadata": {},
   "outputs": [
    {
     "name": "stdout",
     "output_type": "stream",
     "text": [
      "Requirement already satisfied: tensorflow in c:\\users\\arnav\\appdata\\local\\programs\\python\\python310\\lib\\site-packages (2.12.0)\n",
      "Requirement already satisfied: tensorflow-intel==2.12.0 in c:\\users\\arnav\\appdata\\local\\programs\\python\\python310\\lib\\site-packages (from tensorflow) (2.12.0)\n",
      "Requirement already satisfied: gast<=0.4.0,>=0.2.1 in c:\\users\\arnav\\appdata\\local\\programs\\python\\python310\\lib\\site-packages (from tensorflow-intel==2.12.0->tensorflow) (0.4.0)\n",
      "Requirement already satisfied: protobuf!=4.21.0,!=4.21.1,!=4.21.2,!=4.21.3,!=4.21.4,!=4.21.5,<5.0.0dev,>=3.20.3 in c:\\users\\arnav\\appdata\\local\\programs\\python\\python310\\lib\\site-packages (from tensorflow-intel==2.12.0->tensorflow) (3.20.3)\n",
      "Requirement already satisfied: libclang>=13.0.0 in c:\\users\\arnav\\appdata\\local\\programs\\python\\python310\\lib\\site-packages (from tensorflow-intel==2.12.0->tensorflow) (16.0.0)\n",
      "Requirement already satisfied: termcolor>=1.1.0 in c:\\users\\arnav\\appdata\\local\\programs\\python\\python310\\lib\\site-packages (from tensorflow-intel==2.12.0->tensorflow) (2.3.0)\n",
      "Requirement already satisfied: absl-py>=1.0.0 in c:\\users\\arnav\\appdata\\local\\programs\\python\\python310\\lib\\site-packages (from tensorflow-intel==2.12.0->tensorflow) (1.4.0)\n",
      "Requirement already satisfied: astunparse>=1.6.0 in c:\\users\\arnav\\appdata\\local\\programs\\python\\python310\\lib\\site-packages (from tensorflow-intel==2.12.0->tensorflow) (1.6.3)\n",
      "Requirement already satisfied: opt-einsum>=2.3.2 in c:\\users\\arnav\\appdata\\local\\programs\\python\\python310\\lib\\site-packages (from tensorflow-intel==2.12.0->tensorflow) (3.3.0)\n",
      "Requirement already satisfied: wrapt<1.15,>=1.11.0 in c:\\users\\arnav\\appdata\\local\\programs\\python\\python310\\lib\\site-packages (from tensorflow-intel==2.12.0->tensorflow) (1.14.1)\n",
      "Requirement already satisfied: h5py>=2.9.0 in c:\\users\\arnav\\appdata\\local\\programs\\python\\python310\\lib\\site-packages (from tensorflow-intel==2.12.0->tensorflow) (3.8.0)\n",
      "Requirement already satisfied: tensorflow-io-gcs-filesystem>=0.23.1 in c:\\users\\arnav\\appdata\\local\\programs\\python\\python310\\lib\\site-packages (from tensorflow-intel==2.12.0->tensorflow) (0.31.0)\n",
      "Requirement already satisfied: tensorboard<2.13,>=2.12 in c:\\users\\arnav\\appdata\\local\\programs\\python\\python310\\lib\\site-packages (from tensorflow-intel==2.12.0->tensorflow) (2.12.3)\n",
      "Requirement already satisfied: jax>=0.3.15 in c:\\users\\arnav\\appdata\\local\\programs\\python\\python310\\lib\\site-packages (from tensorflow-intel==2.12.0->tensorflow) (0.4.8)\n",
      "Requirement already satisfied: flatbuffers>=2.0 in c:\\users\\arnav\\appdata\\local\\programs\\python\\python310\\lib\\site-packages (from tensorflow-intel==2.12.0->tensorflow) (23.1.21)\n",
      "Requirement already satisfied: grpcio<2.0,>=1.24.3 in c:\\users\\arnav\\appdata\\local\\programs\\python\\python310\\lib\\site-packages (from tensorflow-intel==2.12.0->tensorflow) (1.54.0)\n",
      "Requirement already satisfied: google-pasta>=0.1.1 in c:\\users\\arnav\\appdata\\local\\programs\\python\\python310\\lib\\site-packages (from tensorflow-intel==2.12.0->tensorflow) (0.2.0)\n",
      "Requirement already satisfied: typing-extensions>=3.6.6 in c:\\users\\arnav\\appdata\\local\\programs\\python\\python310\\lib\\site-packages (from tensorflow-intel==2.12.0->tensorflow) (4.5.0)\n",
      "Requirement already satisfied: keras<2.13,>=2.12.0 in c:\\users\\arnav\\appdata\\local\\programs\\python\\python310\\lib\\site-packages (from tensorflow-intel==2.12.0->tensorflow) (2.12.0)\n",
      "Requirement already satisfied: packaging in c:\\users\\arnav\\appdata\\local\\programs\\python\\python310\\lib\\site-packages (from tensorflow-intel==2.12.0->tensorflow) (21.3)\n",
      "Requirement already satisfied: tensorflow-estimator<2.13,>=2.12.0 in c:\\users\\arnav\\appdata\\local\\programs\\python\\python310\\lib\\site-packages (from tensorflow-intel==2.12.0->tensorflow) (2.12.0)\n",
      "Requirement already satisfied: setuptools in c:\\users\\arnav\\appdata\\local\\programs\\python\\python310\\lib\\site-packages (from tensorflow-intel==2.12.0->tensorflow) (58.1.0)\n",
      "Requirement already satisfied: numpy<1.24,>=1.22 in c:\\users\\arnav\\appdata\\local\\programs\\python\\python310\\lib\\site-packages (from tensorflow-intel==2.12.0->tensorflow) (1.22.3)\n",
      "Requirement already satisfied: six>=1.12.0 in c:\\users\\arnav\\appdata\\local\\programs\\python\\python310\\lib\\site-packages (from tensorflow-intel==2.12.0->tensorflow) (1.16.0)\n",
      "Requirement already satisfied: wheel<1.0,>=0.23.0 in c:\\users\\arnav\\appdata\\local\\programs\\python\\python310\\lib\\site-packages (from astunparse>=1.6.0->tensorflow-intel==2.12.0->tensorflow) (0.40.0)\n",
      "Requirement already satisfied: scipy>=1.7 in c:\\users\\arnav\\appdata\\local\\programs\\python\\python310\\lib\\site-packages (from jax>=0.3.15->tensorflow-intel==2.12.0->tensorflow) (1.10.1)\n",
      "Requirement already satisfied: ml-dtypes>=0.0.3 in c:\\users\\arnav\\appdata\\local\\programs\\python\\python310\\lib\\site-packages (from jax>=0.3.15->tensorflow-intel==2.12.0->tensorflow) (0.1.0)\n",
      "Requirement already satisfied: requests<3,>=2.21.0 in c:\\users\\arnav\\appdata\\local\\programs\\python\\python310\\lib\\site-packages (from tensorboard<2.13,>=2.12->tensorflow-intel==2.12.0->tensorflow) (2.27.1)\n",
      "Requirement already satisfied: tensorboard-data-server<0.8.0,>=0.7.0 in c:\\users\\arnav\\appdata\\local\\programs\\python\\python310\\lib\\site-packages (from tensorboard<2.13,>=2.12->tensorflow-intel==2.12.0->tensorflow) (0.7.0)\n",
      "Requirement already satisfied: google-auth<3,>=1.6.3 in c:\\users\\arnav\\appdata\\local\\programs\\python\\python310\\lib\\site-packages (from tensorboard<2.13,>=2.12->tensorflow-intel==2.12.0->tensorflow) (2.17.3)\n",
      "Requirement already satisfied: werkzeug>=1.0.1 in c:\\users\\arnav\\appdata\\local\\programs\\python\\python310\\lib\\site-packages (from tensorboard<2.13,>=2.12->tensorflow-intel==2.12.0->tensorflow) (2.2.3)\n",
      "Requirement already satisfied: google-auth-oauthlib<1.1,>=0.5 in c:\\users\\arnav\\appdata\\local\\programs\\python\\python310\\lib\\site-packages (from tensorboard<2.13,>=2.12->tensorflow-intel==2.12.0->tensorflow) (1.0.0)\n",
      "Requirement already satisfied: markdown>=2.6.8 in c:\\users\\arnav\\appdata\\local\\programs\\python\\python310\\lib\\site-packages (from tensorboard<2.13,>=2.12->tensorflow-intel==2.12.0->tensorflow) (3.4.3)\n",
      "Requirement already satisfied: pyparsing!=3.0.5,>=2.0.2 in c:\\users\\arnav\\appdata\\local\\programs\\python\\python310\\lib\\site-packages (from packaging->tensorflow-intel==2.12.0->tensorflow) (3.0.7)\n",
      "Requirement already satisfied: cachetools<6.0,>=2.0.0 in c:\\users\\arnav\\appdata\\local\\programs\\python\\python310\\lib\\site-packages (from google-auth<3,>=1.6.3->tensorboard<2.13,>=2.12->tensorflow-intel==2.12.0->tensorflow) (5.3.0)\n",
      "Requirement already satisfied: rsa<5,>=3.1.4 in c:\\users\\arnav\\appdata\\local\\programs\\python\\python310\\lib\\site-packages (from google-auth<3,>=1.6.3->tensorboard<2.13,>=2.12->tensorflow-intel==2.12.0->tensorflow) (4.9)\n",
      "Requirement already satisfied: pyasn1-modules>=0.2.1 in c:\\users\\arnav\\appdata\\local\\programs\\python\\python310\\lib\\site-packages (from google-auth<3,>=1.6.3->tensorboard<2.13,>=2.12->tensorflow-intel==2.12.0->tensorflow) (0.3.0)\n",
      "Requirement already satisfied: requests-oauthlib>=0.7.0 in c:\\users\\arnav\\appdata\\local\\programs\\python\\python310\\lib\\site-packages (from google-auth-oauthlib<1.1,>=0.5->tensorboard<2.13,>=2.12->tensorflow-intel==2.12.0->tensorflow) (1.3.1)\n",
      "Requirement already satisfied: certifi>=2017.4.17 in c:\\users\\arnav\\appdata\\local\\programs\\python\\python310\\lib\\site-packages (from requests<3,>=2.21.0->tensorboard<2.13,>=2.12->tensorflow-intel==2.12.0->tensorflow) (2021.10.8)\n",
      "Requirement already satisfied: idna<4,>=2.5 in c:\\users\\arnav\\appdata\\local\\programs\\python\\python310\\lib\\site-packages (from requests<3,>=2.21.0->tensorboard<2.13,>=2.12->tensorflow-intel==2.12.0->tensorflow) (3.3)\n",
      "Requirement already satisfied: charset-normalizer~=2.0.0 in c:\\users\\arnav\\appdata\\local\\programs\\python\\python310\\lib\\site-packages (from requests<3,>=2.21.0->tensorboard<2.13,>=2.12->tensorflow-intel==2.12.0->tensorflow) (2.0.12)\n",
      "Requirement already satisfied: urllib3<1.27,>=1.21.1 in c:\\users\\arnav\\appdata\\local\\programs\\python\\python310\\lib\\site-packages (from requests<3,>=2.21.0->tensorboard<2.13,>=2.12->tensorflow-intel==2.12.0->tensorflow) (1.26.9)\n",
      "Requirement already satisfied: MarkupSafe>=2.1.1 in c:\\users\\arnav\\appdata\\local\\programs\\python\\python310\\lib\\site-packages (from werkzeug>=1.0.1->tensorboard<2.13,>=2.12->tensorflow-intel==2.12.0->tensorflow) (2.1.2)\n",
      "Requirement already satisfied: pyasn1<0.6.0,>=0.4.6 in c:\\users\\arnav\\appdata\\local\\programs\\python\\python310\\lib\\site-packages (from pyasn1-modules>=0.2.1->google-auth<3,>=1.6.3->tensorboard<2.13,>=2.12->tensorflow-intel==2.12.0->tensorflow) (0.5.0)\n",
      "Requirement already satisfied: oauthlib>=3.0.0 in c:\\users\\arnav\\appdata\\local\\programs\\python\\python310\\lib\\site-packages (from requests-oauthlib>=0.7.0->google-auth-oauthlib<1.1,>=0.5->tensorboard<2.13,>=2.12->tensorflow-intel==2.12.0->tensorflow) (3.2.2)\n",
      "Note: you may need to restart the kernel to use updated packages.\n"
     ]
    },
    {
     "name": "stderr",
     "output_type": "stream",
     "text": [
      "WARNING: You are using pip version 22.0.4; however, version 23.1.2 is available.\n",
      "You should consider upgrading via the 'C:\\Users\\ARNAV\\AppData\\Local\\Programs\\Python\\Python310\\python.exe -m pip install --upgrade pip' command.\n"
     ]
    }
   ],
   "source": [
    "pip install tensorflow"
   ]
  },
  {
   "cell_type": "code",
   "execution_count": 6,
   "id": "7d7fff60",
   "metadata": {},
   "outputs": [],
   "source": [
    "import tensorflow as tf"
   ]
  },
  {
   "cell_type": "code",
   "execution_count": 7,
   "id": "fc8a8a70",
   "metadata": {},
   "outputs": [
    {
     "name": "stdout",
     "output_type": "stream",
     "text": [
      "Requirement already satisfied: matplotlib in c:\\users\\arnav\\appdata\\local\\programs\\python\\python310\\lib\\site-packages (3.5.1)\n",
      "Requirement already satisfied: pillow>=6.2.0 in c:\\users\\arnav\\appdata\\local\\programs\\python\\python310\\lib\\site-packages (from matplotlib) (9.1.0)\n",
      "Requirement already satisfied: kiwisolver>=1.0.1 in c:\\users\\arnav\\appdata\\local\\programs\\python\\python310\\lib\\site-packages (from matplotlib) (1.4.2)\n",
      "Requirement already satisfied: cycler>=0.10 in c:\\users\\arnav\\appdata\\local\\programs\\python\\python310\\lib\\site-packages (from matplotlib) (0.11.0)\n",
      "Requirement already satisfied: python-dateutil>=2.7 in c:\\users\\arnav\\appdata\\local\\programs\\python\\python310\\lib\\site-packages (from matplotlib) (2.8.2)\n",
      "Requirement already satisfied: numpy>=1.17 in c:\\users\\arnav\\appdata\\local\\programs\\python\\python310\\lib\\site-packages (from matplotlib) (1.22.3)\n",
      "Requirement already satisfied: pyparsing>=2.2.1 in c:\\users\\arnav\\appdata\\local\\programs\\python\\python310\\lib\\site-packages (from matplotlib) (3.0.7)\n",
      "Requirement already satisfied: packaging>=20.0 in c:\\users\\arnav\\appdata\\local\\programs\\python\\python310\\lib\\site-packages (from matplotlib) (21.3)\n",
      "Requirement already satisfied: fonttools>=4.22.0 in c:\\users\\arnav\\appdata\\local\\programs\\python\\python310\\lib\\site-packages (from matplotlib) (4.31.2)\n",
      "Requirement already satisfied: six>=1.5 in c:\\users\\arnav\\appdata\\local\\programs\\python\\python310\\lib\\site-packages (from python-dateutil>=2.7->matplotlib) (1.16.0)\n",
      "Note: you may need to restart the kernel to use updated packages.\n"
     ]
    },
    {
     "name": "stderr",
     "output_type": "stream",
     "text": [
      "WARNING: You are using pip version 22.0.4; however, version 23.1.2 is available.\n",
      "You should consider upgrading via the 'C:\\Users\\ARNAV\\AppData\\Local\\Programs\\Python\\Python310\\python.exe -m pip install --upgrade pip' command.\n"
     ]
    }
   ],
   "source": [
    "pip install matplotlib \n"
   ]
  },
  {
   "cell_type": "code",
   "execution_count": 8,
   "id": "23256ec6",
   "metadata": {},
   "outputs": [],
   "source": [
    "import tensorflow as tf\n",
    "import matplotlib as plt\n",
    "from tensorflow.keras import models,layers\n",
    "import matplotlib.pyplot as plt\n",
    "from IPython.display import HTML"
   ]
  },
  {
   "cell_type": "code",
   "execution_count": 9,
   "id": "4879ddc1",
   "metadata": {},
   "outputs": [],
   "source": [
    "BATCH_SIZE=32\n",
    "IMAGE_SIZE=256\n",
    "CHANNELS=3\n",
    "EPOCHS=50"
   ]
  },
  {
   "cell_type": "code",
   "execution_count": 11,
   "id": "5f1827f2",
   "metadata": {},
   "outputs": [
    {
     "name": "stdout",
     "output_type": "stream",
     "text": [
      "Found 2152 files belonging to 3 classes.\n"
     ]
    }
   ],
   "source": [
    "dataset=tf.keras.preprocessing.image_dataset_from_directory(\n",
    "    \"PlantVillage\",\n",
    "    seed=123,\n",
    "    shuffle=True,\n",
    "    image_size=(IMAGE_SIZE,IMAGE_SIZE),\n",
    "    batch_size=BATCH_SIZE\n",
    "\n",
    ")"
   ]
  },
  {
   "cell_type": "code",
   "execution_count": 12,
   "id": "3f2123d8",
   "metadata": {},
   "outputs": [],
   "source": [
    "class_names=dataset.class_names\n"
   ]
  },
  {
   "cell_type": "code",
   "execution_count": 14,
   "id": "1384632e",
   "metadata": {},
   "outputs": [
    {
     "data": {
      "text/plain": [
       "68"
      ]
     },
     "execution_count": 14,
     "metadata": {},
     "output_type": "execute_result"
    }
   ],
   "source": [
    "len(dataset)"
   ]
  },
  {
   "cell_type": "code",
   "execution_count": 35,
   "id": "c260037e",
   "metadata": {},
   "outputs": [
    {
     "data": {
      "text/plain": [
       "54"
      ]
     },
     "execution_count": 35,
     "metadata": {},
     "output_type": "execute_result"
    }
   ],
   "source": [
    "train_size=0.8\n",
    "(int)(train_size*len(dataset))"
   ]
  },
  {
   "cell_type": "code",
   "execution_count": 44,
   "id": "fc37dfb0",
   "metadata": {
    "scrolled": true
   },
   "outputs": [
    {
     "data": {
      "text/plain": [
       "8"
      ]
     },
     "execution_count": 44,
     "metadata": {},
     "output_type": "execute_result"
    }
   ],
   "source": [
    "train_ds=dataset.take(54)\n",
    "test_ds=dataset.skip(54)\n",
    "val_size=0.1\n",
    "val_ds=test_ds.take(6)\n",
    "test_ds=test_ds.skip(6)\n",
    "\n",
    "len(train_ds)\n",
    "len(test_ds)\n"
   ]
  },
  {
   "cell_type": "code",
   "execution_count": 33,
   "id": "52e68607",
   "metadata": {},
   "outputs": [
    {
     "data": {
      "text/plain": [
       "8"
      ]
     },
     "execution_count": 33,
     "metadata": {},
     "output_type": "execute_result"
    }
   ],
   "source": [
    "train_ds=train_ds.cache().shuffle(1000).prefetch(buffer_size=tf.data.AUTOTUNE)\n",
    "val_ds=val_ds.cache().shuffle(1000).prefetch(buffer_size=tf.data.AUTOTUNE)\n",
    "test_ds=test_ds.cache().shuffle(1000).prefetch(buffer_size=tf.data.AUTOTUNE)"
   ]
  },
  {
   "cell_type": "code",
   "execution_count": 45,
   "id": "a6c03a9d",
   "metadata": {},
   "outputs": [],
   "source": [
    "resize_and_rescale=tf.keras.Sequential(\n",
    "[\n",
    "    layers.experimental.preprocessing.Resizing(IMAGE_SIZE,IMAGE_SIZE),\n",
    "    layers.experimental.preprocessing.Rescaling(1./255),\n",
    "])"
   ]
  },
  {
   "cell_type": "code",
   "execution_count": 48,
   "id": "ceac5d60",
   "metadata": {},
   "outputs": [],
   "source": [
    "data_augmentation=tf.keras.Sequential([\n",
    "    layers.experimental.preprocessing.RandomFlip(\"horizontal_and_vertical\"),\n",
    "    layers.experimental.preprocessing.RandomRotation(0.2),\n",
    "])"
   ]
  },
  {
   "cell_type": "code",
   "execution_count": 49,
   "id": "19aa03a5",
   "metadata": {},
   "outputs": [],
   "source": [
    "train_ds=train_ds.map(\n",
    "lambda x,y:(data_augmentation(x,training=True),y)).prefetch(buffer_size=tf.data.AUTOTUNE)"
   ]
  },
  {
   "cell_type": "code",
   "execution_count": 52,
   "id": "04bd41d8",
   "metadata": {},
   "outputs": [],
   "source": [
    "input_shape=(BATCH_SIZE,IMAGE_SIZE,IMAGE_SIZE,CHANNELS)\n",
    "n_classes=3\n",
    "\n",
    "model=models.Sequential([\n",
    "    resize_and_rescale,\n",
    "    layers.Conv2D(32,kernel_size=(3,3),activation='relu',input_shape=input_shape),\n",
    "    layers.MaxPooling2D((2,2)),\n",
    "    layers.Conv2D(64,kernel_size=(3,3),activation='relu'),\n",
    "    layers.MaxPooling2D((2,2)),\n",
    "    layers.Conv2D(64,kernel_size=(3,3),activation='relu'),\n",
    "    layers.MaxPooling2D((2,2)),\n",
    "    layers.Conv2D(64,kernel_size=(3,3),activation='relu'),\n",
    "    layers.MaxPooling2D((2,2)),\n",
    "    layers.Conv2D(64,kernel_size=(3,3),activation='relu'),\n",
    "    layers.MaxPooling2D((2,2)),\n",
    "    layers.Conv2D(64,kernel_size=(3,3),activation='relu'),\n",
    "    layers.MaxPooling2D((2,2)),\n",
    "    layers.Flatten(),\n",
    "    layers.Dense(64,activation='relu'),\n",
    "    layers.Dense(n_classes,activation='softmax'),\n",
    "    \n",
    "])\n",
    "model.build(input_shape=input_shape)"
   ]
  },
  {
   "cell_type": "code",
   "execution_count": 54,
   "id": "f016c218",
   "metadata": {},
   "outputs": [],
   "source": [
    "model.compile(\n",
    "    optimizer='adam',\n",
    "    loss=tf.keras.losses.SparseCategoricalCrossentropy(from_logits=False),\n",
    "    metrics=['accuracy']\n",
    ")"
   ]
  },
  {
   "cell_type": "code",
   "execution_count": 56,
   "id": "a9e5c65e",
   "metadata": {
    "scrolled": false
   },
   "outputs": [
    {
     "name": "stdout",
     "output_type": "stream",
     "text": [
      "Epoch 1/50\n",
      "54/54 [==============================] - 58s 1s/step - loss: 0.8726 - accuracy: 0.5365 - val_loss: 0.9961 - val_accuracy: 0.5052\n",
      "Epoch 2/50\n",
      "54/54 [==============================] - 55s 1s/step - loss: 0.5802 - accuracy: 0.7355 - val_loss: 0.2831 - val_accuracy: 0.8854\n",
      "Epoch 3/50\n",
      "54/54 [==============================] - 55s 1s/step - loss: 0.3037 - accuracy: 0.8744 - val_loss: 0.1693 - val_accuracy: 0.9323\n",
      "Epoch 4/50\n",
      "54/54 [==============================] - 54s 995ms/step - loss: 0.1529 - accuracy: 0.9381 - val_loss: 0.1082 - val_accuracy: 0.9531\n",
      "Epoch 5/50\n",
      "54/54 [==============================] - 54s 999ms/step - loss: 0.1870 - accuracy: 0.9294 - val_loss: 0.1368 - val_accuracy: 0.9583\n",
      "Epoch 6/50\n",
      "54/54 [==============================] - 56s 1s/step - loss: 0.1276 - accuracy: 0.9508 - val_loss: 0.3207 - val_accuracy: 0.8854\n",
      "Epoch 7/50\n",
      "54/54 [==============================] - 54s 990ms/step - loss: 0.1140 - accuracy: 0.9549 - val_loss: 0.1232 - val_accuracy: 0.9688\n",
      "Epoch 8/50\n",
      "54/54 [==============================] - 54s 988ms/step - loss: 0.1796 - accuracy: 0.9300 - val_loss: 0.1555 - val_accuracy: 0.9479\n",
      "Epoch 9/50\n",
      "54/54 [==============================] - 62s 1s/step - loss: 0.1099 - accuracy: 0.9618 - val_loss: 0.1072 - val_accuracy: 0.9688\n",
      "Epoch 10/50\n",
      "54/54 [==============================] - 78s 1s/step - loss: 0.0604 - accuracy: 0.9792 - val_loss: 0.0643 - val_accuracy: 0.9740\n",
      "Epoch 11/50\n",
      "54/54 [==============================] - 77s 1s/step - loss: 0.0485 - accuracy: 0.9826 - val_loss: 0.1601 - val_accuracy: 0.9531\n",
      "Epoch 12/50\n",
      "54/54 [==============================] - 79s 1s/step - loss: 0.0637 - accuracy: 0.9797 - val_loss: 0.3106 - val_accuracy: 0.8958\n",
      "Epoch 13/50\n",
      "54/54 [==============================] - 77s 1s/step - loss: 0.0963 - accuracy: 0.9653 - val_loss: 0.0946 - val_accuracy: 0.9635\n",
      "Epoch 14/50\n",
      "54/54 [==============================] - 77s 1s/step - loss: 0.0933 - accuracy: 0.9682 - val_loss: 0.2446 - val_accuracy: 0.8750\n",
      "Epoch 15/50\n",
      "54/54 [==============================] - 79s 1s/step - loss: 0.0749 - accuracy: 0.9728 - val_loss: 0.0540 - val_accuracy: 0.9792\n",
      "Epoch 16/50\n",
      "54/54 [==============================] - 79s 1s/step - loss: 0.0541 - accuracy: 0.9826 - val_loss: 0.2730 - val_accuracy: 0.9010\n",
      "Epoch 17/50\n",
      "54/54 [==============================] - 76s 1s/step - loss: 0.0570 - accuracy: 0.9803 - val_loss: 0.0652 - val_accuracy: 0.9844\n",
      "Epoch 18/50\n",
      "54/54 [==============================] - 79s 1s/step - loss: 0.0434 - accuracy: 0.9850 - val_loss: 0.0849 - val_accuracy: 0.9740\n",
      "Epoch 19/50\n",
      "54/54 [==============================] - 77s 1s/step - loss: 0.0471 - accuracy: 0.9821 - val_loss: 0.0578 - val_accuracy: 0.9792\n",
      "Epoch 20/50\n",
      "54/54 [==============================] - 77s 1s/step - loss: 0.0447 - accuracy: 0.9844 - val_loss: 0.1521 - val_accuracy: 0.9583\n",
      "Epoch 21/50\n",
      "54/54 [==============================] - 81s 1s/step - loss: 0.0572 - accuracy: 0.9826 - val_loss: 0.0698 - val_accuracy: 0.9792\n",
      "Epoch 22/50\n",
      "54/54 [==============================] - 84s 2s/step - loss: 0.0402 - accuracy: 0.9878 - val_loss: 0.0995 - val_accuracy: 0.9688\n",
      "Epoch 23/50\n",
      "54/54 [==============================] - 78s 1s/step - loss: 0.0272 - accuracy: 0.9919 - val_loss: 0.0467 - val_accuracy: 0.9792\n",
      "Epoch 24/50\n",
      "54/54 [==============================] - 77s 1s/step - loss: 0.0678 - accuracy: 0.9716 - val_loss: 0.1330 - val_accuracy: 0.9583\n",
      "Epoch 25/50\n",
      "54/54 [==============================] - 78s 1s/step - loss: 0.0371 - accuracy: 0.9890 - val_loss: 0.0547 - val_accuracy: 0.9844\n",
      "Epoch 26/50\n",
      "54/54 [==============================] - 80s 1s/step - loss: 0.0295 - accuracy: 0.9919 - val_loss: 0.0358 - val_accuracy: 0.9792\n",
      "Epoch 27/50\n",
      "54/54 [==============================] - 79s 1s/step - loss: 0.0355 - accuracy: 0.9902 - val_loss: 0.1171 - val_accuracy: 0.9688\n",
      "Epoch 28/50\n",
      "54/54 [==============================] - 85s 2s/step - loss: 0.0331 - accuracy: 0.9878 - val_loss: 0.1985 - val_accuracy: 0.9427\n",
      "Epoch 29/50\n",
      "54/54 [==============================] - 83s 2s/step - loss: 0.0283 - accuracy: 0.9902 - val_loss: 0.0804 - val_accuracy: 0.9844\n",
      "Epoch 30/50\n",
      "54/54 [==============================] - 79s 1s/step - loss: 0.0401 - accuracy: 0.9878 - val_loss: 0.1044 - val_accuracy: 0.9688\n",
      "Epoch 31/50\n",
      "54/54 [==============================] - 79s 1s/step - loss: 0.0284 - accuracy: 0.9919 - val_loss: 0.0539 - val_accuracy: 0.9740\n",
      "Epoch 32/50\n",
      "54/54 [==============================] - 80s 1s/step - loss: 0.0738 - accuracy: 0.9734 - val_loss: 0.0756 - val_accuracy: 0.9792\n",
      "Epoch 33/50\n",
      "54/54 [==============================] - 70s 1s/step - loss: 0.0415 - accuracy: 0.9838 - val_loss: 0.0881 - val_accuracy: 0.9792\n",
      "Epoch 34/50\n",
      "54/54 [==============================] - 81s 1s/step - loss: 0.2930 - accuracy: 0.8744 - val_loss: 0.7187 - val_accuracy: 0.6719\n",
      "Epoch 35/50\n",
      "54/54 [==============================] - 79s 1s/step - loss: 0.2514 - accuracy: 0.8999 - val_loss: 0.0815 - val_accuracy: 0.9688\n",
      "Epoch 36/50\n",
      "54/54 [==============================] - 77s 1s/step - loss: 0.0779 - accuracy: 0.9722 - val_loss: 0.1363 - val_accuracy: 0.9635\n",
      "Epoch 37/50\n",
      "54/54 [==============================] - 81s 1s/step - loss: 0.0399 - accuracy: 0.9884 - val_loss: 0.0431 - val_accuracy: 0.9844\n",
      "Epoch 38/50\n",
      "54/54 [==============================] - 83s 2s/step - loss: 0.0333 - accuracy: 0.9884 - val_loss: 0.0857 - val_accuracy: 0.9688\n",
      "Epoch 39/50\n",
      "54/54 [==============================] - 83s 2s/step - loss: 0.0404 - accuracy: 0.9855 - val_loss: 0.0752 - val_accuracy: 0.9740\n",
      "Epoch 40/50\n",
      "54/54 [==============================] - 83s 2s/step - loss: 0.0503 - accuracy: 0.9809 - val_loss: 0.1601 - val_accuracy: 0.9375\n",
      "Epoch 41/50\n",
      "54/54 [==============================] - 79s 1s/step - loss: 0.0555 - accuracy: 0.9826 - val_loss: 0.0315 - val_accuracy: 0.9948\n",
      "Epoch 42/50\n",
      "54/54 [==============================] - 76s 1s/step - loss: 0.0276 - accuracy: 0.9919 - val_loss: 0.0658 - val_accuracy: 0.9792\n",
      "Epoch 43/50\n",
      "54/54 [==============================] - 82s 2s/step - loss: 0.0210 - accuracy: 0.9931 - val_loss: 0.1078 - val_accuracy: 0.9740\n",
      "Epoch 44/50\n",
      "54/54 [==============================] - 82s 2s/step - loss: 0.0435 - accuracy: 0.9844 - val_loss: 0.0186 - val_accuracy: 0.9948\n",
      "Epoch 45/50\n",
      "54/54 [==============================] - 77s 1s/step - loss: 0.0269 - accuracy: 0.9919 - val_loss: 0.1557 - val_accuracy: 0.9531\n",
      "Epoch 46/50\n",
      "54/54 [==============================] - 85s 2s/step - loss: 0.0203 - accuracy: 0.9913 - val_loss: 0.0501 - val_accuracy: 0.9792\n",
      "Epoch 47/50\n",
      "54/54 [==============================] - 79s 1s/step - loss: 0.0173 - accuracy: 0.9936 - val_loss: 0.0353 - val_accuracy: 0.9844\n",
      "Epoch 48/50\n",
      "54/54 [==============================] - 81s 1s/step - loss: 0.0272 - accuracy: 0.9890 - val_loss: 0.0497 - val_accuracy: 0.9844\n",
      "Epoch 49/50\n",
      "54/54 [==============================] - 89s 2s/step - loss: 0.0195 - accuracy: 0.9959 - val_loss: 0.0542 - val_accuracy: 0.9792\n",
      "Epoch 50/50\n",
      "54/54 [==============================] - 83s 2s/step - loss: 0.0119 - accuracy: 0.9959 - val_loss: 0.0211 - val_accuracy: 0.9948\n"
     ]
    }
   ],
   "source": [
    "history=model.fit(\n",
    "   train_ds,\n",
    "   batch_size=BATCH_SIZE,\n",
    "   validation_data=val_ds,\n",
    "   verbose=1,\n",
    "   epochs=50\n",
    "    \n",
    ")"
   ]
  },
  {
   "cell_type": "code",
   "execution_count": 62,
   "id": "4b4f8892",
   "metadata": {},
   "outputs": [],
   "source": [
    "model.save(\"Potato_model.h5\")\n"
   ]
  },
  {
   "cell_type": "code",
   "execution_count": 64,
   "id": "04b6d6e3",
   "metadata": {},
   "outputs": [],
   "source": [
    "import pickle\n",
    "import tensorflow as tf\n",
    "\n",
    "# Load the trained model\n",
    "model = tf.keras.models.load_model('Potato_model.h5')\n",
    "\n",
    "# Convert the model to a pickle string\n",
    "model_pickle = pickle.dumps(model)\n",
    "\n",
    "# Save the pickle string to a file\n",
    "with open('Potato_model_pickle.pkl', 'wb') as f:\n",
    "    f.write(model_pickle)\n"
   ]
  },
  {
   "cell_type": "code",
   "execution_count": null,
   "id": "760d514d",
   "metadata": {},
   "outputs": [],
   "source": []
  }
 ],
 "metadata": {
  "kernelspec": {
   "display_name": "Python 3 (ipykernel)",
   "language": "python",
   "name": "python3"
  },
  "language_info": {
   "codemirror_mode": {
    "name": "ipython",
    "version": 3
   },
   "file_extension": ".py",
   "mimetype": "text/x-python",
   "name": "python",
   "nbconvert_exporter": "python",
   "pygments_lexer": "ipython3",
   "version": "3.10.4"
  }
 },
 "nbformat": 4,
 "nbformat_minor": 5
}
